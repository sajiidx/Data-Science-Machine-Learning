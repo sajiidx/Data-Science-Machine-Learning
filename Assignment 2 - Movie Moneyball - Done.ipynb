{
 "cells": [
  {
   "cell_type": "markdown",
   "metadata": {},
   "source": [
    "# COMP 10020 Introduction to Programming 2\n",
    "## Assignment 2 - Movie Moneyball"
   ]
  },
  {
   "cell_type": "markdown",
   "metadata": {},
   "source": [
    "The rise of popularrity of **data science** has led to data science techniques being applied in some unexpected places, and to the release of some very interesting datasets. There are very few areas in which data science techiques are not making a difference.\n",
    "\n",
    "One area where data is driving decision making is the movie business. Data is being used to undrstand the pefromance of movies and even make decisions about what movies to make. The goal of this assignment is to use data about movie releases from 1916 to 2017 to answer a series of questions. "
   ]
  },
  {
   "cell_type": "markdown",
   "metadata": {},
   "source": [
    "### Import Useful Packages"
   ]
  },
  {
   "cell_type": "code",
   "execution_count": 2,
   "metadata": {},
   "outputs": [],
   "source": [
    "# Import useful packages for data science\n",
    "from IPython.display import display, HTML\n",
    "import pandas as pd\n",
    "import numpy as np\n",
    "import scipy\n",
    "import matplotlib.pyplot as plt\n",
    "%matplotlib inline  "
   ]
  },
  {
   "cell_type": "markdown",
   "metadata": {},
   "source": [
    "### Question 1: Import Data"
   ]
  },
  {
   "cell_type": "markdown",
   "metadata": {},
   "source": [
    "Details of a large collecrtion of movies released between 1916 and 2017 are contained in the file **movies.csv** and **casts.csv**. Each row within **movies.csv** describes a movie, using the following fields:\n",
    "\n",
    "* **id**: A nunique ID of the movie\n",
    "* **title**: The title of the movie\n",
    "* **tagline**: The tagline for the movie\n",
    "* **homepage**: A URL for the homepage of the movive (may no longer exist)\n",
    "* **release_date**: The release date of teh movei as yyyy/mm/dd\n",
    "* **genre**: A category indicating the main genre of the movie\n",
    "* **budget**: The budget of rthe movie in US dollars\n",
    "* **keywords**: A list of keywords sdecribing the movie\n",
    "* **original_language** The orginal labguage of the movie (as a two letter abbreviation, e.g. en for English)\n",
    "* **revenue**: The revnue earned by the movie in US dollars\n",
    "* **runtime**: The runtime of the movie in minutes\n",
    "* **status**: The status of the movie (one of *Released*, *Rumored*, or *Post Production*)\n",
    "* **vote_average**: The average rating for the movie (from 0 to 10)\n",
    "* **vote_count**: The number of ratings that have been provided for the movie\n",
    "* **director**: The director of the movie\n",
    "       \n",
    "Each row within **casts.csv** contains the id of a movie and the name of an actor in that move. This file uses the following fields:\n",
    "\n",
    "* **id**: The id of the movie\n",
    "* **billing**: The billing of the actor (one of *cast_0*, *cast_1*, *cast_2*, or *cast_3*)\n",
    "* **actor**: The name of the actor\n",
    "\n",
    "Load the two datasets (**movies.csv** and **casts.csv**) into pandas data frames: **movies** and **casts**. Display the first five rows from each."
   ]
  },
  {
   "cell_type": "code",
   "execution_count": 3,
   "metadata": {},
   "outputs": [],
   "source": [
    "movies = pd.read_csv('movies.csv')\n",
    "casts = pd.read_csv('casts.csv')"
   ]
  },
  {
   "cell_type": "markdown",
   "metadata": {},
   "source": [
    "### Question 2: Tidy"
   ]
  },
  {
   "cell_type": "markdown",
   "metadata": {},
   "source": [
    "Define a function to convert dates into years."
   ]
  },
  {
   "cell_type": "code",
   "execution_count": 4,
   "metadata": {},
   "outputs": [],
   "source": [
    "def date_to_year(d):\n",
    "    if(type(d) != str):\n",
    "        return np.NaN\n",
    "    else:\n",
    "        date_parts = d.split('-')\n",
    "        year = date_parts[0]\n",
    "        return int(year)"
   ]
  },
  {
   "cell_type": "markdown",
   "metadata": {},
   "source": [
    "Convert dates into years for each movie to add a new column **release_year**. The pandas Series **apply** function used togehter with the **date_to_year** function defined above can be used for this."
   ]
  },
  {
   "cell_type": "code",
   "execution_count": 84,
   "metadata": {},
   "outputs": [
    {
     "data": {
      "text/html": [
       "<div>\n",
       "<style scoped>\n",
       "    .dataframe tbody tr th:only-of-type {\n",
       "        vertical-align: middle;\n",
       "    }\n",
       "\n",
       "    .dataframe tbody tr th {\n",
       "        vertical-align: top;\n",
       "    }\n",
       "\n",
       "    .dataframe thead th {\n",
       "        text-align: right;\n",
       "    }\n",
       "</style>\n",
       "<table border=\"1\" class=\"dataframe\">\n",
       "  <thead>\n",
       "    <tr style=\"text-align: right;\">\n",
       "      <th></th>\n",
       "      <th>id</th>\n",
       "      <th>title</th>\n",
       "      <th>tagline</th>\n",
       "      <th>homepage</th>\n",
       "      <th>release_date</th>\n",
       "      <th>genre</th>\n",
       "      <th>budget</th>\n",
       "      <th>keywords</th>\n",
       "      <th>original_language</th>\n",
       "      <th>revenue</th>\n",
       "      <th>runtime</th>\n",
       "      <th>status</th>\n",
       "      <th>vote_average</th>\n",
       "      <th>vote_count</th>\n",
       "      <th>director</th>\n",
       "      <th>release_year</th>\n",
       "      <th>release_month</th>\n",
       "    </tr>\n",
       "  </thead>\n",
       "  <tbody>\n",
       "    <tr>\n",
       "      <th>4386</th>\n",
       "      <td>124606</td>\n",
       "      <td>Bang</td>\n",
       "      <td>Sometimes you've got to break the rules</td>\n",
       "      <td>NaN</td>\n",
       "      <td>1995-09-09</td>\n",
       "      <td>Drama</td>\n",
       "      <td>0</td>\n",
       "      <td>gang audition police fake homeless actress</td>\n",
       "      <td>en</td>\n",
       "      <td>0</td>\n",
       "      <td>98.0</td>\n",
       "      <td>Released</td>\n",
       "      <td>6.0</td>\n",
       "      <td>1</td>\n",
       "      <td>Ash Baron-Cohen</td>\n",
       "      <td>1995</td>\n",
       "      <td>9</td>\n",
       "    </tr>\n",
       "    <tr>\n",
       "      <th>4387</th>\n",
       "      <td>14337</td>\n",
       "      <td>Primer</td>\n",
       "      <td>What happens if it actually works?</td>\n",
       "      <td>http://www.primermovie.com</td>\n",
       "      <td>2004-10-08</td>\n",
       "      <td>Science</td>\n",
       "      <td>7000</td>\n",
       "      <td>distrust garage identity crisis time travel ti...</td>\n",
       "      <td>en</td>\n",
       "      <td>424760</td>\n",
       "      <td>77.0</td>\n",
       "      <td>Released</td>\n",
       "      <td>6.9</td>\n",
       "      <td>658</td>\n",
       "      <td>Shane Carruth</td>\n",
       "      <td>2004</td>\n",
       "      <td>10</td>\n",
       "    </tr>\n",
       "    <tr>\n",
       "      <th>4388</th>\n",
       "      <td>9367</td>\n",
       "      <td>El Mariachi</td>\n",
       "      <td>He didn't come looking for trouble, but troubl...</td>\n",
       "      <td>NaN</td>\n",
       "      <td>1992-09-04</td>\n",
       "      <td>Action</td>\n",
       "      <td>220000</td>\n",
       "      <td>united states\\u2013mexico barrier legs arms pa...</td>\n",
       "      <td>es</td>\n",
       "      <td>2040920</td>\n",
       "      <td>81.0</td>\n",
       "      <td>Released</td>\n",
       "      <td>6.6</td>\n",
       "      <td>238</td>\n",
       "      <td>Robert Rodriguez</td>\n",
       "      <td>1992</td>\n",
       "      <td>9</td>\n",
       "    </tr>\n",
       "    <tr>\n",
       "      <th>4389</th>\n",
       "      <td>231617</td>\n",
       "      <td>Signed, Sealed, Delivered</td>\n",
       "      <td>NaN</td>\n",
       "      <td>http://www.hallmarkchannel.com/signedsealeddel...</td>\n",
       "      <td>2013-10-13</td>\n",
       "      <td>Comedy</td>\n",
       "      <td>0</td>\n",
       "      <td>date love at first sight narration investigati...</td>\n",
       "      <td>en</td>\n",
       "      <td>0</td>\n",
       "      <td>120.0</td>\n",
       "      <td>Released</td>\n",
       "      <td>7.0</td>\n",
       "      <td>6</td>\n",
       "      <td>Scott Smith</td>\n",
       "      <td>2013</td>\n",
       "      <td>10</td>\n",
       "    </tr>\n",
       "    <tr>\n",
       "      <th>4390</th>\n",
       "      <td>25975</td>\n",
       "      <td>My Date with Drew</td>\n",
       "      <td>NaN</td>\n",
       "      <td>NaN</td>\n",
       "      <td>2005-08-05</td>\n",
       "      <td>Documentary</td>\n",
       "      <td>0</td>\n",
       "      <td>obsession camcorder crush dream girl</td>\n",
       "      <td>en</td>\n",
       "      <td>0</td>\n",
       "      <td>90.0</td>\n",
       "      <td>Released</td>\n",
       "      <td>6.3</td>\n",
       "      <td>16</td>\n",
       "      <td>Brian Herzlinger</td>\n",
       "      <td>2005</td>\n",
       "      <td>8</td>\n",
       "    </tr>\n",
       "  </tbody>\n",
       "</table>\n",
       "</div>"
      ],
      "text/plain": [
       "          id                      title  \\\n",
       "4386  124606                       Bang   \n",
       "4387   14337                     Primer   \n",
       "4388    9367                El Mariachi   \n",
       "4389  231617  Signed, Sealed, Delivered   \n",
       "4390   25975          My Date with Drew   \n",
       "\n",
       "                                                tagline  \\\n",
       "4386            Sometimes you've got to break the rules   \n",
       "4387                 What happens if it actually works?   \n",
       "4388  He didn't come looking for trouble, but troubl...   \n",
       "4389                                                NaN   \n",
       "4390                                                NaN   \n",
       "\n",
       "                                               homepage release_date  \\\n",
       "4386                                                NaN   1995-09-09   \n",
       "4387                         http://www.primermovie.com   2004-10-08   \n",
       "4388                                                NaN   1992-09-04   \n",
       "4389  http://www.hallmarkchannel.com/signedsealeddel...   2013-10-13   \n",
       "4390                                                NaN   2005-08-05   \n",
       "\n",
       "            genre  budget                                           keywords  \\\n",
       "4386        Drama       0         gang audition police fake homeless actress   \n",
       "4387      Science    7000  distrust garage identity crisis time travel ti...   \n",
       "4388       Action  220000  united states\\u2013mexico barrier legs arms pa...   \n",
       "4389       Comedy       0  date love at first sight narration investigati...   \n",
       "4390  Documentary       0               obsession camcorder crush dream girl   \n",
       "\n",
       "     original_language  revenue  runtime    status  vote_average  vote_count  \\\n",
       "4386                en        0     98.0  Released           6.0           1   \n",
       "4387                en   424760     77.0  Released           6.9         658   \n",
       "4388                es  2040920     81.0  Released           6.6         238   \n",
       "4389                en        0    120.0  Released           7.0           6   \n",
       "4390                en        0     90.0  Released           6.3          16   \n",
       "\n",
       "              director  release_year  release_month  \n",
       "4386   Ash Baron-Cohen          1995              9  \n",
       "4387     Shane Carruth          2004             10  \n",
       "4388  Robert Rodriguez          1992              9  \n",
       "4389       Scott Smith          2013             10  \n",
       "4390  Brian Herzlinger          2005              8  "
      ]
     },
     "execution_count": 84,
     "metadata": {},
     "output_type": "execute_result"
    }
   ],
   "source": [
    "movies['release_year'] = movies[\"release_date\"].apply(date_to_year)\n",
    "movies.tail()"
   ]
  },
  {
   "cell_type": "markdown",
   "metadata": {},
   "source": [
    "Define a function to convert dates into months."
   ]
  },
  {
   "cell_type": "code",
   "execution_count": 8,
   "metadata": {},
   "outputs": [],
   "source": [
    "def date_to_month(d):\n",
    "    if(type(d) != str):\n",
    "        return np.NaN\n",
    "    else:\n",
    "        date_parts = d.split('-')\n",
    "        month = date_parts[1]\n",
    "        return int(month)"
   ]
  },
  {
   "cell_type": "markdown",
   "metadata": {},
   "source": [
    "Convert dates into months for each movie to add a new column **release_month**. The pandas Series **apply** function used togehter with the **date_to_month** function defined above can be used for this."
   ]
  },
  {
   "cell_type": "code",
   "execution_count": 83,
   "metadata": {},
   "outputs": [
    {
     "data": {
      "text/html": [
       "<div>\n",
       "<style scoped>\n",
       "    .dataframe tbody tr th:only-of-type {\n",
       "        vertical-align: middle;\n",
       "    }\n",
       "\n",
       "    .dataframe tbody tr th {\n",
       "        vertical-align: top;\n",
       "    }\n",
       "\n",
       "    .dataframe thead th {\n",
       "        text-align: right;\n",
       "    }\n",
       "</style>\n",
       "<table border=\"1\" class=\"dataframe\">\n",
       "  <thead>\n",
       "    <tr style=\"text-align: right;\">\n",
       "      <th></th>\n",
       "      <th>id</th>\n",
       "      <th>title</th>\n",
       "      <th>tagline</th>\n",
       "      <th>homepage</th>\n",
       "      <th>release_date</th>\n",
       "      <th>genre</th>\n",
       "      <th>budget</th>\n",
       "      <th>keywords</th>\n",
       "      <th>original_language</th>\n",
       "      <th>revenue</th>\n",
       "      <th>runtime</th>\n",
       "      <th>status</th>\n",
       "      <th>vote_average</th>\n",
       "      <th>vote_count</th>\n",
       "      <th>director</th>\n",
       "      <th>release_year</th>\n",
       "      <th>release_month</th>\n",
       "    </tr>\n",
       "  </thead>\n",
       "  <tbody>\n",
       "    <tr>\n",
       "      <th>4386</th>\n",
       "      <td>124606</td>\n",
       "      <td>Bang</td>\n",
       "      <td>Sometimes you've got to break the rules</td>\n",
       "      <td>NaN</td>\n",
       "      <td>1995-09-09</td>\n",
       "      <td>Drama</td>\n",
       "      <td>0</td>\n",
       "      <td>gang audition police fake homeless actress</td>\n",
       "      <td>en</td>\n",
       "      <td>0</td>\n",
       "      <td>98.0</td>\n",
       "      <td>Released</td>\n",
       "      <td>6.0</td>\n",
       "      <td>1</td>\n",
       "      <td>Ash Baron-Cohen</td>\n",
       "      <td>1995</td>\n",
       "      <td>9</td>\n",
       "    </tr>\n",
       "    <tr>\n",
       "      <th>4387</th>\n",
       "      <td>14337</td>\n",
       "      <td>Primer</td>\n",
       "      <td>What happens if it actually works?</td>\n",
       "      <td>http://www.primermovie.com</td>\n",
       "      <td>2004-10-08</td>\n",
       "      <td>Science</td>\n",
       "      <td>7000</td>\n",
       "      <td>distrust garage identity crisis time travel ti...</td>\n",
       "      <td>en</td>\n",
       "      <td>424760</td>\n",
       "      <td>77.0</td>\n",
       "      <td>Released</td>\n",
       "      <td>6.9</td>\n",
       "      <td>658</td>\n",
       "      <td>Shane Carruth</td>\n",
       "      <td>2004</td>\n",
       "      <td>10</td>\n",
       "    </tr>\n",
       "    <tr>\n",
       "      <th>4388</th>\n",
       "      <td>9367</td>\n",
       "      <td>El Mariachi</td>\n",
       "      <td>He didn't come looking for trouble, but troubl...</td>\n",
       "      <td>NaN</td>\n",
       "      <td>1992-09-04</td>\n",
       "      <td>Action</td>\n",
       "      <td>220000</td>\n",
       "      <td>united states\\u2013mexico barrier legs arms pa...</td>\n",
       "      <td>es</td>\n",
       "      <td>2040920</td>\n",
       "      <td>81.0</td>\n",
       "      <td>Released</td>\n",
       "      <td>6.6</td>\n",
       "      <td>238</td>\n",
       "      <td>Robert Rodriguez</td>\n",
       "      <td>1992</td>\n",
       "      <td>9</td>\n",
       "    </tr>\n",
       "    <tr>\n",
       "      <th>4389</th>\n",
       "      <td>231617</td>\n",
       "      <td>Signed, Sealed, Delivered</td>\n",
       "      <td>NaN</td>\n",
       "      <td>http://www.hallmarkchannel.com/signedsealeddel...</td>\n",
       "      <td>2013-10-13</td>\n",
       "      <td>Comedy</td>\n",
       "      <td>0</td>\n",
       "      <td>date love at first sight narration investigati...</td>\n",
       "      <td>en</td>\n",
       "      <td>0</td>\n",
       "      <td>120.0</td>\n",
       "      <td>Released</td>\n",
       "      <td>7.0</td>\n",
       "      <td>6</td>\n",
       "      <td>Scott Smith</td>\n",
       "      <td>2013</td>\n",
       "      <td>10</td>\n",
       "    </tr>\n",
       "    <tr>\n",
       "      <th>4390</th>\n",
       "      <td>25975</td>\n",
       "      <td>My Date with Drew</td>\n",
       "      <td>NaN</td>\n",
       "      <td>NaN</td>\n",
       "      <td>2005-08-05</td>\n",
       "      <td>Documentary</td>\n",
       "      <td>0</td>\n",
       "      <td>obsession camcorder crush dream girl</td>\n",
       "      <td>en</td>\n",
       "      <td>0</td>\n",
       "      <td>90.0</td>\n",
       "      <td>Released</td>\n",
       "      <td>6.3</td>\n",
       "      <td>16</td>\n",
       "      <td>Brian Herzlinger</td>\n",
       "      <td>2005</td>\n",
       "      <td>8</td>\n",
       "    </tr>\n",
       "  </tbody>\n",
       "</table>\n",
       "</div>"
      ],
      "text/plain": [
       "          id                      title  \\\n",
       "4386  124606                       Bang   \n",
       "4387   14337                     Primer   \n",
       "4388    9367                El Mariachi   \n",
       "4389  231617  Signed, Sealed, Delivered   \n",
       "4390   25975          My Date with Drew   \n",
       "\n",
       "                                                tagline  \\\n",
       "4386            Sometimes you've got to break the rules   \n",
       "4387                 What happens if it actually works?   \n",
       "4388  He didn't come looking for trouble, but troubl...   \n",
       "4389                                                NaN   \n",
       "4390                                                NaN   \n",
       "\n",
       "                                               homepage release_date  \\\n",
       "4386                                                NaN   1995-09-09   \n",
       "4387                         http://www.primermovie.com   2004-10-08   \n",
       "4388                                                NaN   1992-09-04   \n",
       "4389  http://www.hallmarkchannel.com/signedsealeddel...   2013-10-13   \n",
       "4390                                                NaN   2005-08-05   \n",
       "\n",
       "            genre  budget                                           keywords  \\\n",
       "4386        Drama       0         gang audition police fake homeless actress   \n",
       "4387      Science    7000  distrust garage identity crisis time travel ti...   \n",
       "4388       Action  220000  united states\\u2013mexico barrier legs arms pa...   \n",
       "4389       Comedy       0  date love at first sight narration investigati...   \n",
       "4390  Documentary       0               obsession camcorder crush dream girl   \n",
       "\n",
       "     original_language  revenue  runtime    status  vote_average  vote_count  \\\n",
       "4386                en        0     98.0  Released           6.0           1   \n",
       "4387                en   424760     77.0  Released           6.9         658   \n",
       "4388                es  2040920     81.0  Released           6.6         238   \n",
       "4389                en        0    120.0  Released           7.0           6   \n",
       "4390                en        0     90.0  Released           6.3          16   \n",
       "\n",
       "              director  release_year  release_month  \n",
       "4386   Ash Baron-Cohen          1995              9  \n",
       "4387     Shane Carruth          2004             10  \n",
       "4388  Robert Rodriguez          1992              9  \n",
       "4389       Scott Smith          2013             10  \n",
       "4390  Brian Herzlinger          2005              8  "
      ]
     },
     "execution_count": 83,
     "metadata": {},
     "output_type": "execute_result"
    }
   ],
   "source": [
    "movies['release_month'] = movies[\"release_date\"].apply(date_to_month)\n",
    "movies.tail()"
   ]
  },
  {
   "cell_type": "markdown",
   "metadata": {},
   "source": [
    "### Question 2: Simple Analysis\n",
    "\n",
    "Use simple data analysis to answer the following questions. "
   ]
  },
  {
   "cell_type": "markdown",
   "metadata": {},
   "source": [
    "**a)** In how many genres have movies been released?"
   ]
  },
  {
   "cell_type": "code",
   "execution_count": 13,
   "metadata": {},
   "outputs": [
    {
     "name": "stdout",
     "output_type": "stream",
     "text": [
      "Movies have been released in 20 genres.\n"
     ]
    }
   ],
   "source": [
    "genres = len(movies['genre'].value_counts())\n",
    "print('Movies have been released in',genres, 'genres.')"
   ]
  },
  {
   "cell_type": "markdown",
   "metadata": {},
   "source": [
    "**b)** Generate and print a table showing many times movies have been released in each *genre*?"
   ]
  },
  {
   "cell_type": "code",
   "execution_count": 18,
   "metadata": {},
   "outputs": [
    {
     "data": {
      "text/html": [
       "<div>\n",
       "<style scoped>\n",
       "    .dataframe tbody tr th:only-of-type {\n",
       "        vertical-align: middle;\n",
       "    }\n",
       "\n",
       "    .dataframe tbody tr th {\n",
       "        vertical-align: top;\n",
       "    }\n",
       "\n",
       "    .dataframe thead th {\n",
       "        text-align: right;\n",
       "    }\n",
       "</style>\n",
       "<table border=\"1\" class=\"dataframe\">\n",
       "  <thead>\n",
       "    <tr style=\"text-align: right;\">\n",
       "      <th></th>\n",
       "      <th>Number of Movies</th>\n",
       "    </tr>\n",
       "  </thead>\n",
       "  <tbody>\n",
       "    <tr>\n",
       "      <th>Drama</th>\n",
       "      <td>1100</td>\n",
       "    </tr>\n",
       "    <tr>\n",
       "      <th>Comedy</th>\n",
       "      <td>950</td>\n",
       "    </tr>\n",
       "    <tr>\n",
       "      <th>Action</th>\n",
       "      <td>702</td>\n",
       "    </tr>\n",
       "    <tr>\n",
       "      <th>Adventure</th>\n",
       "      <td>327</td>\n",
       "    </tr>\n",
       "    <tr>\n",
       "      <th>Horror</th>\n",
       "      <td>278</td>\n",
       "    </tr>\n",
       "    <tr>\n",
       "      <th>Crime</th>\n",
       "      <td>184</td>\n",
       "    </tr>\n",
       "    <tr>\n",
       "      <th>Thriller</th>\n",
       "      <td>170</td>\n",
       "    </tr>\n",
       "    <tr>\n",
       "      <th>Fantasy</th>\n",
       "      <td>112</td>\n",
       "    </tr>\n",
       "    <tr>\n",
       "      <th>Animation</th>\n",
       "      <td>111</td>\n",
       "    </tr>\n",
       "    <tr>\n",
       "      <th>Romance</th>\n",
       "      <td>98</td>\n",
       "    </tr>\n",
       "    <tr>\n",
       "      <th>Science</th>\n",
       "      <td>93</td>\n",
       "    </tr>\n",
       "    <tr>\n",
       "      <th>Documentary</th>\n",
       "      <td>73</td>\n",
       "    </tr>\n",
       "    <tr>\n",
       "      <th>Family</th>\n",
       "      <td>45</td>\n",
       "    </tr>\n",
       "    <tr>\n",
       "      <th>Mystery</th>\n",
       "      <td>39</td>\n",
       "    </tr>\n",
       "    <tr>\n",
       "      <th>Music</th>\n",
       "      <td>32</td>\n",
       "    </tr>\n",
       "    <tr>\n",
       "      <th>History</th>\n",
       "      <td>25</td>\n",
       "    </tr>\n",
       "    <tr>\n",
       "      <th>War</th>\n",
       "      <td>24</td>\n",
       "    </tr>\n",
       "    <tr>\n",
       "      <th>Western</th>\n",
       "      <td>23</td>\n",
       "    </tr>\n",
       "    <tr>\n",
       "      <th>TV</th>\n",
       "      <td>2</td>\n",
       "    </tr>\n",
       "    <tr>\n",
       "      <th>Foreign</th>\n",
       "      <td>1</td>\n",
       "    </tr>\n",
       "  </tbody>\n",
       "</table>\n",
       "</div>"
      ],
      "text/plain": [
       "             Number of Movies\n",
       "Drama                    1100\n",
       "Comedy                    950\n",
       "Action                    702\n",
       "Adventure                 327\n",
       "Horror                    278\n",
       "Crime                     184\n",
       "Thriller                  170\n",
       "Fantasy                   112\n",
       "Animation                 111\n",
       "Romance                    98\n",
       "Science                    93\n",
       "Documentary                73\n",
       "Family                     45\n",
       "Mystery                    39\n",
       "Music                      32\n",
       "History                    25\n",
       "War                        24\n",
       "Western                    23\n",
       "TV                          2\n",
       "Foreign                     1"
      ]
     },
     "execution_count": 18,
     "metadata": {},
     "output_type": "execute_result"
    }
   ],
   "source": [
    "table =  pd.DataFrame(movies['genre'].value_counts())\n",
    "table.columns = ['Number of Movies']\n",
    "table"
   ]
  },
  {
   "cell_type": "markdown",
   "metadata": {},
   "source": [
    "**c)** How many movies have been released under the *Comedy* genre?"
   ]
  },
  {
   "cell_type": "code",
   "execution_count": 20,
   "metadata": {
    "scrolled": true
   },
   "outputs": [
    {
     "name": "stdout",
     "output_type": "stream",
     "text": [
      "Number of movies released in Comedy genre:  [950]\n"
     ]
    }
   ],
   "source": [
    "print('Number of movies released in Comedy genre: ', table.loc['Comedy'].values)"
   ]
  },
  {
   "cell_type": "markdown",
   "metadata": {},
   "source": [
    "**d)** In which month are movies most frequently relased?"
   ]
  },
  {
   "cell_type": "code",
   "execution_count": 34,
   "metadata": {},
   "outputs": [
    {
     "name": "stdout",
     "output_type": "stream",
     "text": [
      "Most Frequently, Movies Released in  9 month\n"
     ]
    }
   ],
   "source": [
    "print('Most Frequently, Movies Released in ', movies['release_month'].value_counts().index[0], 'month')"
   ]
  },
  {
   "cell_type": "markdown",
   "metadata": {},
   "source": [
    "**e)** Who are the ten most prolific *directors* in the dataset?"
   ]
  },
  {
   "cell_type": "code",
   "execution_count": 42,
   "metadata": {},
   "outputs": [
    {
     "name": "stdout",
     "output_type": "stream",
     "text": [
      "The ten most prolific directors in the dataset:\n"
     ]
    },
    {
     "data": {
      "text/plain": [
       "Steven Spielberg     27\n",
       "Woody Allen          20\n",
       "Martin Scorsese      20\n",
       "Clint Eastwood       19\n",
       "Ridley Scott         16\n",
       "Steven Soderbergh    15\n",
       "Robert Rodriguez     15\n",
       "Renny Harlin         15\n",
       "Oliver Stone         14\n",
       "Tim Burton           14\n",
       "Name: director, dtype: int64"
      ]
     },
     "execution_count": 42,
     "metadata": {},
     "output_type": "execute_result"
    }
   ],
   "source": [
    "print('The ten most prolific directors in the dataset:')\n",
    "movies['director'].value_counts().iloc[0:10]"
   ]
  },
  {
   "cell_type": "markdown",
   "metadata": {
    "collapsed": true
   },
   "source": [
    "### Question 3: Deeper Analysis\n",
    "\n",
    "Use slightly more advanced data analysis to answer the following questions."
   ]
  },
  {
   "cell_type": "markdown",
   "metadata": {},
   "source": [
    "**a)** Draw an appropriate data visualsiation that shows the number of movies released each year?"
   ]
  },
  {
   "cell_type": "code",
   "execution_count": 60,
   "metadata": {},
   "outputs": [
    {
     "data": {
      "image/png": "[encoded data removed]",
      "text/plain": [
       "<Figure size 432x288 with 1 Axes>"
      ]
     },
     "metadata": {
      "needs_background": "light"
     },
     "output_type": "display_data"
    }
   ],
   "source": [
    "x = movies['release_year']\n",
    "n_bins = 20\n",
    "plt.hist(x, n_bins, density = False, histtype ='bar')\n",
    "plt.xlabel('Year')\n",
    "plt.ylabel('Number of Movies Released')\n",
    "plt.show()"
   ]
  },
  {
   "cell_type": "markdown",
   "metadata": {},
   "source": [
    "**b)** What is the average duration of a movie (in minutes)?"
   ]
  },
  {
   "cell_type": "code",
   "execution_count": 63,
   "metadata": {},
   "outputs": [
    {
     "name": "stdout",
     "output_type": "stream",
     "text": [
      "The average duration of a movie (in minutes):  108.11642743221691\n"
     ]
    }
   ],
   "source": [
    "print('The average duration of a movie (in minutes): ', movies['runtime'].mean())"
   ]
  },
  {
   "cell_type": "markdown",
   "metadata": {},
   "source": [
    "**c)** How many times has there been a movie described with the keyword *spy*?\n",
    "\n",
    "**Hint:** Experiment with the *str.contains* method from *pandas.Series*."
   ]
  },
  {
   "cell_type": "code",
   "execution_count": 66,
   "metadata": {},
   "outputs": [
    {
     "name": "stdout",
     "output_type": "stream",
     "text": [
      "Movies described with the keyword spy:  41 times\n"
     ]
    }
   ],
   "source": [
    "print('Movies described with the keyword spy: ', movies['keywords'].str.contains('spy').sum(), 'times')"
   ]
  },
  {
   "cell_type": "markdown",
   "metadata": {},
   "source": [
    "**d)** Which actor has starred in the most movies in the datset? "
   ]
  },
  {
   "cell_type": "code",
   "execution_count": 131,
   "metadata": {},
   "outputs": [
    {
     "name": "stdout",
     "output_type": "stream",
     "text": [
      "Starred Actor in the most movies in the datset:  Michael Derek\n"
     ]
    },
    {
     "data": {
      "text/plain": [
       "budget           5000000.0\n",
       "revenue                0.0\n",
       "runtime              107.0\n",
       "vote_average           7.0\n",
       "vote_count           202.0\n",
       "release_year        2011.0\n",
       "release_month         10.0\n",
       "Name:  Alberto, dtype: float64"
      ]
     },
     "execution_count": 131,
     "metadata": {},
     "output_type": "execute_result"
    }
   ],
   "source": [
    "temp = movies.set_index('id').join(casts.set_index('id')).sort_values(by='vote_average')\n",
    "print('Starred Actor in the most movies in the datset: ', temp.groupby(['actor']).mean().sort_values(by=\"vote_average\").index[0])\n",
    "temp.groupby(['actor']).mean().iloc[0]"
   ]
  },
  {
   "cell_type": "markdown",
   "metadata": {},
   "source": [
    "**e)** Are movies by *Woody Allen*  longer, on average, than movies by *Martin Scorsese*?\n",
    "\n",
    "**Bonus:** Can you plot a data visualisation to support this conclusion?"
   ]
  },
  {
   "cell_type": "code",
   "execution_count": 117,
   "metadata": {},
   "outputs": [
    {
     "name": "stdout",
     "output_type": "stream",
     "text": [
      "Average Runtime of Woody Allen's Movies:  97.78571428571429\n",
      "Average Runtime of Martin Freeman's Movies:  127.28571428571429\n",
      "Are movies by Woody Allen longer, on average, than movies by Martin Scorsese?\n",
      "NO\n"
     ]
    }
   ],
   "source": [
    "woody = temp.groupby(['actor']).mean().loc['Woody Allen','runtime']\n",
    "martin = temp.groupby(['actor']).mean().loc['Martin Freeman','runtime'] # there is no actor named Martin Scorses in dataset\n",
    "print(\"Average Runtime of Woody Allen's Movies: \", woody)\n",
    "print(\"Average Runtime of Martin Freeman's Movies: \",martin)\n",
    "print('Are movies by Woody Allen longer, on average, than movies by Martin Scorsese?')\n",
    "if martin > woody:\n",
    "    print('NO')\n",
    "else:\n",
    "    print('Yes')"
   ]
  },
  {
   "cell_type": "markdown",
   "metadata": {},
   "source": [
    "### Question 4: Merging Data\n",
    "\n",
    "Answer questions that require merging the **movies** and **casts** datsets."
   ]
  },
  {
   "cell_type": "markdown",
   "metadata": {},
   "source": [
    "**a)** Which actor starred in the most movies in the year 2010?"
   ]
  },
  {
   "cell_type": "code",
   "execution_count": 122,
   "metadata": {},
   "outputs": [
    {
     "data": {
      "text/html": [
       "<div>\n",
       "<style scoped>\n",
       "    .dataframe tbody tr th:only-of-type {\n",
       "        vertical-align: middle;\n",
       "    }\n",
       "\n",
       "    .dataframe tbody tr th {\n",
       "        vertical-align: top;\n",
       "    }\n",
       "\n",
       "    .dataframe thead th {\n",
       "        text-align: right;\n",
       "    }\n",
       "</style>\n",
       "<table border=\"1\" class=\"dataframe\">\n",
       "  <thead>\n",
       "    <tr style=\"text-align: right;\">\n",
       "      <th></th>\n",
       "      <th>id</th>\n",
       "      <th>title</th>\n",
       "      <th>tagline</th>\n",
       "      <th>homepage</th>\n",
       "      <th>release_date</th>\n",
       "      <th>genre</th>\n",
       "      <th>budget</th>\n",
       "      <th>keywords</th>\n",
       "      <th>original_language</th>\n",
       "      <th>revenue</th>\n",
       "      <th>runtime</th>\n",
       "      <th>status</th>\n",
       "      <th>vote_average</th>\n",
       "      <th>vote_count</th>\n",
       "      <th>director</th>\n",
       "      <th>release_year</th>\n",
       "      <th>release_month</th>\n",
       "      <th>billing</th>\n",
       "      <th>actor</th>\n",
       "    </tr>\n",
       "  </thead>\n",
       "  <tbody>\n",
       "    <tr>\n",
       "      <th>378</th>\n",
       "      <td>27205</td>\n",
       "      <td>Inception</td>\n",
       "      <td>Your mind is the scene of the crime.</td>\n",
       "      <td>http://inceptionmovie.warnerbros.com/</td>\n",
       "      <td>2010-07-14</td>\n",
       "      <td>Action</td>\n",
       "      <td>160000000</td>\n",
       "      <td>loss of lover dream kidnapping sleep subconsci...</td>\n",
       "      <td>en</td>\n",
       "      <td>825532764</td>\n",
       "      <td>148.0</td>\n",
       "      <td>Released</td>\n",
       "      <td>8.1</td>\n",
       "      <td>13752</td>\n",
       "      <td>Christopher Nolan</td>\n",
       "      <td>2010</td>\n",
       "      <td>7</td>\n",
       "      <td>cast_2</td>\n",
       "      <td>Ellen Page</td>\n",
       "    </tr>\n",
       "    <tr>\n",
       "      <th>377</th>\n",
       "      <td>27205</td>\n",
       "      <td>Inception</td>\n",
       "      <td>Your mind is the scene of the crime.</td>\n",
       "      <td>http://inceptionmovie.warnerbros.com/</td>\n",
       "      <td>2010-07-14</td>\n",
       "      <td>Action</td>\n",
       "      <td>160000000</td>\n",
       "      <td>loss of lover dream kidnapping sleep subconsci...</td>\n",
       "      <td>en</td>\n",
       "      <td>825532764</td>\n",
       "      <td>148.0</td>\n",
       "      <td>Released</td>\n",
       "      <td>8.1</td>\n",
       "      <td>13752</td>\n",
       "      <td>Christopher Nolan</td>\n",
       "      <td>2010</td>\n",
       "      <td>7</td>\n",
       "      <td>cast_1</td>\n",
       "      <td>Joseph Gordon-Levitt</td>\n",
       "    </tr>\n",
       "    <tr>\n",
       "      <th>376</th>\n",
       "      <td>27205</td>\n",
       "      <td>Inception</td>\n",
       "      <td>Your mind is the scene of the crime.</td>\n",
       "      <td>http://inceptionmovie.warnerbros.com/</td>\n",
       "      <td>2010-07-14</td>\n",
       "      <td>Action</td>\n",
       "      <td>160000000</td>\n",
       "      <td>loss of lover dream kidnapping sleep subconsci...</td>\n",
       "      <td>en</td>\n",
       "      <td>825532764</td>\n",
       "      <td>148.0</td>\n",
       "      <td>Released</td>\n",
       "      <td>8.1</td>\n",
       "      <td>13752</td>\n",
       "      <td>Christopher Nolan</td>\n",
       "      <td>2010</td>\n",
       "      <td>7</td>\n",
       "      <td>cast_0</td>\n",
       "      <td>Leonardo DiCaprio</td>\n",
       "    </tr>\n",
       "    <tr>\n",
       "      <th>379</th>\n",
       "      <td>27205</td>\n",
       "      <td>Inception</td>\n",
       "      <td>Your mind is the scene of the crime.</td>\n",
       "      <td>http://inceptionmovie.warnerbros.com/</td>\n",
       "      <td>2010-07-14</td>\n",
       "      <td>Action</td>\n",
       "      <td>160000000</td>\n",
       "      <td>loss of lover dream kidnapping sleep subconsci...</td>\n",
       "      <td>en</td>\n",
       "      <td>825532764</td>\n",
       "      <td>148.0</td>\n",
       "      <td>Released</td>\n",
       "      <td>8.1</td>\n",
       "      <td>13752</td>\n",
       "      <td>Christopher Nolan</td>\n",
       "      <td>2010</td>\n",
       "      <td>7</td>\n",
       "      <td>cast_3</td>\n",
       "      <td>Tom Hardy</td>\n",
       "    </tr>\n",
       "  </tbody>\n",
       "</table>\n",
       "</div>"
      ],
      "text/plain": [
       "        id      title                               tagline  \\\n",
       "378  27205  Inception  Your mind is the scene of the crime.   \n",
       "377  27205  Inception  Your mind is the scene of the crime.   \n",
       "376  27205  Inception  Your mind is the scene of the crime.   \n",
       "379  27205  Inception  Your mind is the scene of the crime.   \n",
       "\n",
       "                                  homepage release_date   genre     budget  \\\n",
       "378  http://inceptionmovie.warnerbros.com/   2010-07-14  Action  160000000   \n",
       "377  http://inceptionmovie.warnerbros.com/   2010-07-14  Action  160000000   \n",
       "376  http://inceptionmovie.warnerbros.com/   2010-07-14  Action  160000000   \n",
       "379  http://inceptionmovie.warnerbros.com/   2010-07-14  Action  160000000   \n",
       "\n",
       "                                              keywords original_language  \\\n",
       "378  loss of lover dream kidnapping sleep subconsci...                en   \n",
       "377  loss of lover dream kidnapping sleep subconsci...                en   \n",
       "376  loss of lover dream kidnapping sleep subconsci...                en   \n",
       "379  loss of lover dream kidnapping sleep subconsci...                en   \n",
       "\n",
       "       revenue  runtime    status  vote_average  vote_count  \\\n",
       "378  825532764    148.0  Released           8.1       13752   \n",
       "377  825532764    148.0  Released           8.1       13752   \n",
       "376  825532764    148.0  Released           8.1       13752   \n",
       "379  825532764    148.0  Released           8.1       13752   \n",
       "\n",
       "              director  release_year  release_month billing  \\\n",
       "378  Christopher Nolan          2010              7  cast_2   \n",
       "377  Christopher Nolan          2010              7  cast_1   \n",
       "376  Christopher Nolan          2010              7  cast_0   \n",
       "379  Christopher Nolan          2010              7  cast_3   \n",
       "\n",
       "                    actor  \n",
       "378            Ellen Page  \n",
       "377  Joseph Gordon-Levitt  \n",
       "376     Leonardo DiCaprio  \n",
       "379             Tom Hardy  "
      ]
     },
     "execution_count": 122,
     "metadata": {},
     "output_type": "execute_result"
    }
   ],
   "source": [
    "# Write code here\n",
    "merged = movies.merge(casts)\n",
    "merged = merged[merged['release_year'] == 2010].sort_values(by=\"vote_average\")\n",
    "merged.tail(4)"
   ]
  },
  {
   "cell_type": "markdown",
   "metadata": {},
   "source": [
    "**b)** Which actor's movies have the highest total revenue in the dataset?"
   ]
  },
  {
   "cell_type": "code",
   "execution_count": 130,
   "metadata": {},
   "outputs": [
    {
     "data": {
      "text/plain": [
       "id               2.442800e+04\n",
       "budget           2.200000e+08\n",
       "revenue          1.519558e+09\n",
       "runtime          1.430000e+02\n",
       "vote_average     7.400000e+00\n",
       "vote_count       1.177600e+04\n",
       "release_year     2.012000e+03\n",
       "release_month    4.000000e+00\n",
       "Name: Evans Mark, dtype: float64"
      ]
     },
     "execution_count": 130,
     "metadata": {},
     "output_type": "execute_result"
    }
   ],
   "source": [
    "merged = movies.merge(casts)\n",
    "merged.groupby(['actor']).mean().sort_values(by=\"revenue\").iloc[-1, :]"
   ]
  },
  {
   "cell_type": "code",
   "execution_count": null,
   "metadata": {},
   "outputs": [],
   "source": []
  }
 ],
 "metadata": {
  "kernelspec": {
   "display_name": "Python 3",
   "language": "python",
   "name": "python3"
  },
  "language_info": {
   "codemirror_mode": {
    "name": "ipython",
    "version": 3
   },
   "file_extension": ".py",
   "mimetype": "text/x-python",
   "name": "python",
   "nbconvert_exporter": "python",
   "pygments_lexer": "ipython3",
   "version": "3.8.5"
  }
 },
 "nbformat": 4,
 "nbformat_minor": 1
}
