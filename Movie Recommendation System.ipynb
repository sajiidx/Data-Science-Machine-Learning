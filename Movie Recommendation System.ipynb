{
 "cells": [
  {
   "cell_type": "code",
   "execution_count": 1,
   "metadata": {},
   "outputs": [],
   "source": [
    "%matplotlib inline\n",
    "import pandas as pd\n",
    "import numpy as np\n",
    "from scipy import stats\n",
    "from ast import literal_eval\n",
    "from sklearn.feature_extraction.text import TfidfVectorizer, CountVectorizer\n",
    "from sklearn.metrics.pairwise import linear_kernel, cosine_similarity\n",
    "import warnings\n",
    "warnings.simplefilter('ignore')"
   ]
  },
  {
   "cell_type": "code",
   "execution_count": 2,
   "metadata": {},
   "outputs": [
    {
     "data": {
      "text/html": [
       "<div>\n",
       "<style scoped>\n",
       "    .dataframe tbody tr th:only-of-type {\n",
       "        vertical-align: middle;\n",
       "    }\n",
       "\n",
       "    .dataframe tbody tr th {\n",
       "        vertical-align: top;\n",
       "    }\n",
       "\n",
       "    .dataframe thead th {\n",
       "        text-align: right;\n",
       "    }\n",
       "</style>\n",
       "<table border=\"1\" class=\"dataframe\">\n",
       "  <thead>\n",
       "    <tr style=\"text-align: right;\">\n",
       "      <th></th>\n",
       "      <th>imdb_title_id</th>\n",
       "      <th>title</th>\n",
       "      <th>genre</th>\n",
       "      <th>country</th>\n",
       "      <th>actors</th>\n",
       "      <th>description</th>\n",
       "      <th>avg_vote</th>\n",
       "    </tr>\n",
       "  </thead>\n",
       "  <tbody>\n",
       "    <tr>\n",
       "      <th>0</th>\n",
       "      <td>tt7822474</td>\n",
       "      <td>Suvarna Sundari</td>\n",
       "      <td>Action, Thriller</td>\n",
       "      <td>India</td>\n",
       "      <td>Shamna Kasim, Sakshi Chaudhary, Jaya Prada, Av...</td>\n",
       "      <td>The movie revolves around an idol, Suvarna Sun...</td>\n",
       "      <td>9.898438</td>\n",
       "    </tr>\n",
       "    <tr>\n",
       "      <th>1</th>\n",
       "      <td>tt11207902</td>\n",
       "      <td>Lejos de Casa pelicula Venezolana</td>\n",
       "      <td>Drama, History</td>\n",
       "      <td>Venezuela</td>\n",
       "      <td>Angibell, Gabriel Buitrago, Darwing, Dariana J...</td>\n",
       "      <td>Samuel, a young Venezuelan, emigrates from his...</td>\n",
       "      <td>9.796875</td>\n",
       "    </tr>\n",
       "    <tr>\n",
       "      <th>2</th>\n",
       "      <td>tt11976170</td>\n",
       "      <td>Jeeudo</td>\n",
       "      <td>Drama, Romance</td>\n",
       "      <td>India</td>\n",
       "      <td>Prashant Baraili, Davina, Pranisha Gahatraj, P...</td>\n",
       "      <td>\"A TALE OF LOVE, MYTH, AND FATE\" \"JEEUDO\" (mea...</td>\n",
       "      <td>9.796875</td>\n",
       "    </tr>\n",
       "    <tr>\n",
       "      <th>3</th>\n",
       "      <td>tt12492650</td>\n",
       "      <td>Ek</td>\n",
       "      <td>Action, Drama</td>\n",
       "      <td>India</td>\n",
       "      <td>Bishnu Adhikari, Himanshi Khurana, Aparna Shar...</td>\n",
       "      <td>EK is a love story set in the context of ever ...</td>\n",
       "      <td>9.796875</td>\n",
       "    </tr>\n",
       "    <tr>\n",
       "      <th>4</th>\n",
       "      <td>tt9008642</td>\n",
       "      <td>Notuku Potu</td>\n",
       "      <td>Horror, Mystery</td>\n",
       "      <td>India</td>\n",
       "      <td>Mumait Khan, Manisha Koirala, Arjun Sarja</td>\n",
       "      <td>Notuku Potu is a crime story laced with elemen...</td>\n",
       "      <td>9.796875</td>\n",
       "    </tr>\n",
       "  </tbody>\n",
       "</table>\n",
       "</div>"
      ],
      "text/plain": [
       "  imdb_title_id                              title             genre  \\\n",
       "0     tt7822474                    Suvarna Sundari  Action, Thriller   \n",
       "1    tt11207902  Lejos de Casa pelicula Venezolana    Drama, History   \n",
       "2    tt11976170                             Jeeudo    Drama, Romance   \n",
       "3    tt12492650                                 Ek     Action, Drama   \n",
       "4     tt9008642                        Notuku Potu   Horror, Mystery   \n",
       "\n",
       "     country                                             actors  \\\n",
       "0      India  Shamna Kasim, Sakshi Chaudhary, Jaya Prada, Av...   \n",
       "1  Venezuela  Angibell, Gabriel Buitrago, Darwing, Dariana J...   \n",
       "2      India  Prashant Baraili, Davina, Pranisha Gahatraj, P...   \n",
       "3      India  Bishnu Adhikari, Himanshi Khurana, Aparna Shar...   \n",
       "4      India          Mumait Khan, Manisha Koirala, Arjun Sarja   \n",
       "\n",
       "                                         description  avg_vote  \n",
       "0  The movie revolves around an idol, Suvarna Sun...  9.898438  \n",
       "1  Samuel, a young Venezuelan, emigrates from his...  9.796875  \n",
       "2  \"A TALE OF LOVE, MYTH, AND FATE\" \"JEEUDO\" (mea...  9.796875  \n",
       "3  EK is a love story set in the context of ever ...  9.796875  \n",
       "4  Notuku Potu is a crime story laced with elemen...  9.796875  "
      ]
     },
     "execution_count": 2,
     "metadata": {},
     "output_type": "execute_result"
    }
   ],
   "source": [
    "df = pd.read_csv('movies.csv')\n",
    "df['avg_vote'] = df['avg_vote'].astype('float16')\n",
    "df['country'] = df['country'].astype(str)\n",
    "df['description'] = df['description'].astype(str)\n",
    "df['genre'] = df['genre'].astype(str)\n",
    "df['actors'] = df['actors'].astype(str)\n",
    "df.head()"
   ]
  },
  {
   "cell_type": "code",
   "execution_count": 3,
   "metadata": {},
   "outputs": [
    {
     "data": {
      "text/plain": [
       "(10000, 22521)"
      ]
     },
     "execution_count": 3,
     "metadata": {},
     "output_type": "execute_result"
    }
   ],
   "source": [
    "tfidf = TfidfVectorizer(stop_words='english')\n",
    "df['description'] = df['description'].fillna('')\n",
    "tfidf_matrix = tfidf.fit_transform(df['description'][0:10000])\n",
    "tfidf_matrix.shape"
   ]
  },
  {
   "cell_type": "code",
   "execution_count": 4,
   "metadata": {},
   "outputs": [],
   "source": [
    "cosine_sim = linear_kernel(tfidf_matrix, tfidf_matrix)"
   ]
  },
  {
   "cell_type": "code",
   "execution_count": 5,
   "metadata": {},
   "outputs": [],
   "source": [
    "indices = pd.Series(df.index, index=df['title']).drop_duplicates()"
   ]
  },
  {
   "cell_type": "code",
   "execution_count": 6,
   "metadata": {},
   "outputs": [],
   "source": [
    "def get_recommendations(title, cosine_sim=cosine_sim):\n",
    "    # Get the index of the movie that matches the title\n",
    "    idx = indices[title]\n",
    "\n",
    "    # Get the pairwsie similarity scores of all movies with that movie\n",
    "    sim_scores = list(enumerate(cosine_sim[idx]))\n",
    "\n",
    "    # Sort the movies based on the similarity scores\n",
    "    sim_scores = sorted(sim_scores, key=lambda x: x[1], reverse=True)\n",
    "\n",
    "    # Get the scores of the 10 most similar movies\n",
    "    sim_scores = sim_scores[1:11]\n",
    "\n",
    "    # Get the movie indices\n",
    "    movie_indices = [i[0] for i in sim_scores]\n",
    "\n",
    "    # Return the top 10 most similar movies\n",
    "    return df['title'].iloc[movie_indices]"
   ]
  },
  {
   "cell_type": "code",
   "execution_count": 7,
   "metadata": {},
   "outputs": [
    {
     "name": "stdout",
     "output_type": "stream",
     "text": [
      "Enter Movie Name: The Avengers\n"
     ]
    }
   ],
   "source": [
    "movie = input('Enter Movie Name: ')\n",
    "recommended1 = get_recommendations(movie)"
   ]
  },
  {
   "cell_type": "code",
   "execution_count": 8,
   "metadata": {},
   "outputs": [],
   "source": [
    "def clean_data(x):\n",
    "    if isinstance(x, list):\n",
    "        return [str.lower(i.replace(\" \", \"\")) for i in x]\n",
    "    else:\n",
    "        if isinstance(x, str):\n",
    "            return str.lower(x.replace(\" \", \"\"))\n",
    "        else:\n",
    "            return ''"
   ]
  },
  {
   "cell_type": "code",
   "execution_count": 9,
   "metadata": {},
   "outputs": [],
   "source": [
    "# Apply clean_data function to your features.\n",
    "features = ['country', 'actors', 'genre']\n",
    "\n",
    "for feature in features:\n",
    "    df[feature] = df[feature].apply(clean_data)"
   ]
  },
  {
   "cell_type": "code",
   "execution_count": 10,
   "metadata": {},
   "outputs": [],
   "source": [
    "# Function that takes in movie title as input and outputs most similar movies\n",
    "def get_recommendations(title, cosine_sim=cosine_sim):\n",
    "    # Get the index of the movie that matches the title\n",
    "    idx = indices[title]\n",
    "\n",
    "    # Get the pairwsie similarity scores of all movies with that movie\n",
    "    sim_scores = list(enumerate(cosine_sim[idx]))\n",
    "\n",
    "    # Sort the movies based on the similarity scores\n",
    "    sim_scores = sorted(sim_scores, key=lambda x: x[1], reverse=True)\n",
    "\n",
    "    # Get the scores of the 10 most similar movies\n",
    "    sim_scores = sim_scores[1:11]\n",
    "\n",
    "    # Get the movie indices\n",
    "    movie_indices = [i[0] for i in sim_scores]\n",
    "\n",
    "    # Return the top 10 most similar movies\n",
    "    return df['title'].iloc[movie_indices]\n"
   ]
  },
  {
   "cell_type": "code",
   "execution_count": 11,
   "metadata": {},
   "outputs": [
    {
     "data": {
      "text/html": [
       "<div>\n",
       "<style scoped>\n",
       "    .dataframe tbody tr th:only-of-type {\n",
       "        vertical-align: middle;\n",
       "    }\n",
       "\n",
       "    .dataframe tbody tr th {\n",
       "        vertical-align: top;\n",
       "    }\n",
       "\n",
       "    .dataframe thead th {\n",
       "        text-align: right;\n",
       "    }\n",
       "</style>\n",
       "<table border=\"1\" class=\"dataframe\">\n",
       "  <thead>\n",
       "    <tr style=\"text-align: right;\">\n",
       "      <th></th>\n",
       "      <th>imdb_title_id</th>\n",
       "      <th>title</th>\n",
       "      <th>genre</th>\n",
       "      <th>country</th>\n",
       "      <th>actors</th>\n",
       "      <th>description</th>\n",
       "      <th>avg_vote</th>\n",
       "      <th>soup</th>\n",
       "    </tr>\n",
       "  </thead>\n",
       "  <tbody>\n",
       "    <tr>\n",
       "      <th>0</th>\n",
       "      <td>tt7822474</td>\n",
       "      <td>Suvarna Sundari</td>\n",
       "      <td>action,thriller</td>\n",
       "      <td>india</td>\n",
       "      <td>shamnakasim,sakshichaudhary,jayaprada,avantika...</td>\n",
       "      <td>The movie revolves around an idol, Suvarna Sun...</td>\n",
       "      <td>9.898438</td>\n",
       "      <td>action,thriller india shamnakasim,sakshichaud...</td>\n",
       "    </tr>\n",
       "    <tr>\n",
       "      <th>1</th>\n",
       "      <td>tt11207902</td>\n",
       "      <td>Lejos de Casa pelicula Venezolana</td>\n",
       "      <td>drama,history</td>\n",
       "      <td>venezuela</td>\n",
       "      <td>angibell,gabrielbuitrago,darwing,darianajozh,m...</td>\n",
       "      <td>Samuel, a young Venezuelan, emigrates from his...</td>\n",
       "      <td>9.796875</td>\n",
       "      <td>drama,history venezuela angibell,gabrielbuitr...</td>\n",
       "    </tr>\n",
       "    <tr>\n",
       "      <th>2</th>\n",
       "      <td>tt11976170</td>\n",
       "      <td>Jeeudo</td>\n",
       "      <td>drama,romance</td>\n",
       "      <td>india</td>\n",
       "      <td>prashantbaraili,davina,pranishagahatraj,pujang...</td>\n",
       "      <td>\"A TALE OF LOVE, MYTH, AND FATE\" \"JEEUDO\" (mea...</td>\n",
       "      <td>9.796875</td>\n",
       "      <td>drama,romance india prashantbaraili,davina,pr...</td>\n",
       "    </tr>\n",
       "    <tr>\n",
       "      <th>3</th>\n",
       "      <td>tt12492650</td>\n",
       "      <td>Ek</td>\n",
       "      <td>action,drama</td>\n",
       "      <td>india</td>\n",
       "      <td>bishnuadhikari,himanshikhurana,aparnasharma,pr...</td>\n",
       "      <td>EK is a love story set in the context of ever ...</td>\n",
       "      <td>9.796875</td>\n",
       "      <td>action,drama india bishnuadhikari,himanshikhu...</td>\n",
       "    </tr>\n",
       "    <tr>\n",
       "      <th>4</th>\n",
       "      <td>tt9008642</td>\n",
       "      <td>Notuku Potu</td>\n",
       "      <td>horror,mystery</td>\n",
       "      <td>india</td>\n",
       "      <td>mumaitkhan,manishakoirala,arjunsarja</td>\n",
       "      <td>Notuku Potu is a crime story laced with elemen...</td>\n",
       "      <td>9.796875</td>\n",
       "      <td>horror,mystery india mumaitkhan,manishakoiral...</td>\n",
       "    </tr>\n",
       "  </tbody>\n",
       "</table>\n",
       "</div>"
      ],
      "text/plain": [
       "  imdb_title_id                              title            genre  \\\n",
       "0     tt7822474                    Suvarna Sundari  action,thriller   \n",
       "1    tt11207902  Lejos de Casa pelicula Venezolana    drama,history   \n",
       "2    tt11976170                             Jeeudo    drama,romance   \n",
       "3    tt12492650                                 Ek     action,drama   \n",
       "4     tt9008642                        Notuku Potu   horror,mystery   \n",
       "\n",
       "     country                                             actors  \\\n",
       "0      india  shamnakasim,sakshichaudhary,jayaprada,avantika...   \n",
       "1  venezuela  angibell,gabrielbuitrago,darwing,darianajozh,m...   \n",
       "2      india  prashantbaraili,davina,pranishagahatraj,pujang...   \n",
       "3      india  bishnuadhikari,himanshikhurana,aparnasharma,pr...   \n",
       "4      india               mumaitkhan,manishakoirala,arjunsarja   \n",
       "\n",
       "                                         description  avg_vote  \\\n",
       "0  The movie revolves around an idol, Suvarna Sun...  9.898438   \n",
       "1  Samuel, a young Venezuelan, emigrates from his...  9.796875   \n",
       "2  \"A TALE OF LOVE, MYTH, AND FATE\" \"JEEUDO\" (mea...  9.796875   \n",
       "3  EK is a love story set in the context of ever ...  9.796875   \n",
       "4  Notuku Potu is a crime story laced with elemen...  9.796875   \n",
       "\n",
       "                                                soup  \n",
       "0   action,thriller india shamnakasim,sakshichaud...  \n",
       "1   drama,history venezuela angibell,gabrielbuitr...  \n",
       "2   drama,romance india prashantbaraili,davina,pr...  \n",
       "3   action,drama india bishnuadhikari,himanshikhu...  \n",
       "4   horror,mystery india mumaitkhan,manishakoiral...  "
      ]
     },
     "execution_count": 11,
     "metadata": {},
     "output_type": "execute_result"
    }
   ],
   "source": [
    "def create_soup(x):\n",
    "    return ' ' + x['genre'] + ' ' + x['country'] + ' ' + x['actors']\n",
    "df['soup'] = df.apply(create_soup, axis=1)\n",
    "df.head()"
   ]
  },
  {
   "cell_type": "code",
   "execution_count": 12,
   "metadata": {},
   "outputs": [],
   "source": [
    "count = CountVectorizer(stop_words='english')\n",
    "count_matrix = count.fit_transform(df['soup'][0:15000])"
   ]
  },
  {
   "cell_type": "code",
   "execution_count": 13,
   "metadata": {},
   "outputs": [],
   "source": [
    "cosine_sim2 = cosine_similarity(count_matrix, count_matrix)"
   ]
  },
  {
   "cell_type": "code",
   "execution_count": 14,
   "metadata": {},
   "outputs": [],
   "source": [
    "indices = pd.Series(df.index, index=df['title'])"
   ]
  },
  {
   "cell_type": "code",
   "execution_count": 15,
   "metadata": {},
   "outputs": [],
   "source": [
    "recommended2 = get_recommendations(movie, cosine_sim2)"
   ]
  },
  {
   "cell_type": "code",
   "execution_count": 16,
   "metadata": {},
   "outputs": [
    {
     "name": "stdout",
     "output_type": "stream",
     "text": [
      "Recommendation Based On [Country, Genre, Actors]: \n",
      "8336                      Avengers: Age of Ultron\n",
      "2408                     E.T. - L'extra-terrestre\n",
      "7806                                 Galaxy Quest\n",
      "7450                                     Superman\n",
      "2885                         Ultimatum alla Terra\n",
      "218                                  Interstellar\n",
      "2906                           Maksim Perepelitsa\n",
      "4490                                     Loveless\n",
      "9269    Queen Millennia - La regina dei 1000 anni\n",
      "1050                                      La cosa\n",
      "Name: title, dtype: object\n",
      "Recommendation Based On Story: \n",
      "8336                 Avengers: Age of Ultron\n",
      "459                   Avengers: Infinity War\n",
      "2721              Captain America: Civil War\n",
      "3425     Captain America: The Winter Soldier\n",
      "460                        Avengers: Endgame\n",
      "2032                                Iron Man\n",
      "10155                             Iron Man 3\n",
      "5593               Spider-Man: Far from Home\n",
      "6765                  Spider-Man: Homecoming\n",
      "1074                           Jurassic Park\n",
      "Name: title, dtype: object\n"
     ]
    }
   ],
   "source": [
    "print('Recommendation Based On [Country, Genre, Actors]: ')\n",
    "print(recommended1)\n",
    "print('Recommendation Based On Story: ')\n",
    "print(recommended2)"
   ]
  },
  {
   "cell_type": "code",
   "execution_count": null,
   "metadata": {},
   "outputs": [],
   "source": []
  }
 ],
 "metadata": {
  "kernelspec": {
   "display_name": "Python 3",
   "language": "python",
   "name": "python3"
  },
  "language_info": {
   "codemirror_mode": {
    "name": "ipython",
    "version": 3
   },
   "file_extension": ".py",
   "mimetype": "text/x-python",
   "name": "python",
   "nbconvert_exporter": "python",
   "pygments_lexer": "ipython3",
   "version": "3.8.5"
  }
 },
 "nbformat": 4,
 "nbformat_minor": 4
}
