{
 "cells": [
  {
   "cell_type": "code",
   "execution_count": 152,
   "metadata": {},
   "outputs": [],
   "source": [
    "import pandas as pd\n",
    "import math\n",
    "import warnings\n",
    "warnings.filterwarnings(\"ignore\")"
   ]
  },
  {
   "cell_type": "code",
   "execution_count": 153,
   "metadata": {},
   "outputs": [
    {
     "data": {
      "text/html": [
       "<div>\n",
       "<style scoped>\n",
       "    .dataframe tbody tr th:only-of-type {\n",
       "        vertical-align: middle;\n",
       "    }\n",
       "\n",
       "    .dataframe tbody tr th {\n",
       "        vertical-align: top;\n",
       "    }\n",
       "\n",
       "    .dataframe thead th {\n",
       "        text-align: right;\n",
       "    }\n",
       "</style>\n",
       "<table border=\"1\" class=\"dataframe\">\n",
       "  <thead>\n",
       "    <tr style=\"text-align: right;\">\n",
       "      <th></th>\n",
       "      <th>Tid</th>\n",
       "      <th>Refund</th>\n",
       "      <th>Marital Status</th>\n",
       "      <th>Taxable Income</th>\n",
       "      <th>Evade</th>\n",
       "    </tr>\n",
       "  </thead>\n",
       "  <tbody>\n",
       "    <tr>\n",
       "      <th>0</th>\n",
       "      <td>1</td>\n",
       "      <td>Yes</td>\n",
       "      <td>Single</td>\n",
       "      <td>125K</td>\n",
       "      <td>No</td>\n",
       "    </tr>\n",
       "    <tr>\n",
       "      <th>1</th>\n",
       "      <td>2</td>\n",
       "      <td>No</td>\n",
       "      <td>Married</td>\n",
       "      <td>100K</td>\n",
       "      <td>No</td>\n",
       "    </tr>\n",
       "    <tr>\n",
       "      <th>2</th>\n",
       "      <td>3</td>\n",
       "      <td>No</td>\n",
       "      <td>Single</td>\n",
       "      <td>70K</td>\n",
       "      <td>No</td>\n",
       "    </tr>\n",
       "    <tr>\n",
       "      <th>3</th>\n",
       "      <td>4</td>\n",
       "      <td>Yes</td>\n",
       "      <td>Married</td>\n",
       "      <td>120K</td>\n",
       "      <td>No</td>\n",
       "    </tr>\n",
       "    <tr>\n",
       "      <th>4</th>\n",
       "      <td>5</td>\n",
       "      <td>No</td>\n",
       "      <td>Divorced</td>\n",
       "      <td>95K</td>\n",
       "      <td>Yes</td>\n",
       "    </tr>\n",
       "    <tr>\n",
       "      <th>5</th>\n",
       "      <td>6</td>\n",
       "      <td>No</td>\n",
       "      <td>Married</td>\n",
       "      <td>60K</td>\n",
       "      <td>No</td>\n",
       "    </tr>\n",
       "    <tr>\n",
       "      <th>6</th>\n",
       "      <td>7</td>\n",
       "      <td>Yes</td>\n",
       "      <td>Divorced</td>\n",
       "      <td>220K</td>\n",
       "      <td>No</td>\n",
       "    </tr>\n",
       "    <tr>\n",
       "      <th>7</th>\n",
       "      <td>8</td>\n",
       "      <td>No</td>\n",
       "      <td>Single</td>\n",
       "      <td>85K</td>\n",
       "      <td>Yes</td>\n",
       "    </tr>\n",
       "    <tr>\n",
       "      <th>8</th>\n",
       "      <td>9</td>\n",
       "      <td>No</td>\n",
       "      <td>Married</td>\n",
       "      <td>75K</td>\n",
       "      <td>No</td>\n",
       "    </tr>\n",
       "    <tr>\n",
       "      <th>9</th>\n",
       "      <td>10</td>\n",
       "      <td>No</td>\n",
       "      <td>Single</td>\n",
       "      <td>90K</td>\n",
       "      <td>Yes</td>\n",
       "    </tr>\n",
       "  </tbody>\n",
       "</table>\n",
       "</div>"
      ],
      "text/plain": [
       "   Tid Refund Marital Status Taxable Income Evade\n",
       "0    1    Yes         Single           125K    No\n",
       "1    2     No        Married           100K    No\n",
       "2    3     No         Single            70K    No\n",
       "3    4    Yes        Married           120K    No\n",
       "4    5     No       Divorced            95K   Yes\n",
       "5    6     No        Married            60K    No\n",
       "6    7    Yes       Divorced           220K    No\n",
       "7    8     No         Single            85K   Yes\n",
       "8    9     No        Married            75K    No\n",
       "9   10     No         Single            90K   Yes"
      ]
     },
     "execution_count": 153,
     "metadata": {},
     "output_type": "execute_result"
    }
   ],
   "source": [
    "df = pd.read_csv('lab04_data.txt')\n",
    "df"
   ]
  },
  {
   "cell_type": "code",
   "execution_count": 154,
   "metadata": {},
   "outputs": [
    {
     "data": {
      "text/html": [
       "<div>\n",
       "<style scoped>\n",
       "    .dataframe tbody tr th:only-of-type {\n",
       "        vertical-align: middle;\n",
       "    }\n",
       "\n",
       "    .dataframe tbody tr th {\n",
       "        vertical-align: top;\n",
       "    }\n",
       "\n",
       "    .dataframe thead th {\n",
       "        text-align: right;\n",
       "    }\n",
       "</style>\n",
       "<table border=\"1\" class=\"dataframe\">\n",
       "  <thead>\n",
       "    <tr style=\"text-align: right;\">\n",
       "      <th></th>\n",
       "      <th>Refund</th>\n",
       "      <th>Marital Status</th>\n",
       "      <th>Taxable Income</th>\n",
       "      <th>Evade</th>\n",
       "    </tr>\n",
       "    <tr>\n",
       "      <th>Tid</th>\n",
       "      <th></th>\n",
       "      <th></th>\n",
       "      <th></th>\n",
       "      <th></th>\n",
       "    </tr>\n",
       "  </thead>\n",
       "  <tbody>\n",
       "    <tr>\n",
       "      <th>1</th>\n",
       "      <td>1</td>\n",
       "      <td>2</td>\n",
       "      <td>125000</td>\n",
       "      <td>0</td>\n",
       "    </tr>\n",
       "    <tr>\n",
       "      <th>2</th>\n",
       "      <td>0</td>\n",
       "      <td>1</td>\n",
       "      <td>100000</td>\n",
       "      <td>0</td>\n",
       "    </tr>\n",
       "    <tr>\n",
       "      <th>3</th>\n",
       "      <td>0</td>\n",
       "      <td>2</td>\n",
       "      <td>70000</td>\n",
       "      <td>0</td>\n",
       "    </tr>\n",
       "    <tr>\n",
       "      <th>4</th>\n",
       "      <td>1</td>\n",
       "      <td>1</td>\n",
       "      <td>120000</td>\n",
       "      <td>0</td>\n",
       "    </tr>\n",
       "    <tr>\n",
       "      <th>5</th>\n",
       "      <td>0</td>\n",
       "      <td>0</td>\n",
       "      <td>95000</td>\n",
       "      <td>1</td>\n",
       "    </tr>\n",
       "    <tr>\n",
       "      <th>6</th>\n",
       "      <td>0</td>\n",
       "      <td>1</td>\n",
       "      <td>60000</td>\n",
       "      <td>0</td>\n",
       "    </tr>\n",
       "    <tr>\n",
       "      <th>7</th>\n",
       "      <td>1</td>\n",
       "      <td>0</td>\n",
       "      <td>220000</td>\n",
       "      <td>0</td>\n",
       "    </tr>\n",
       "    <tr>\n",
       "      <th>8</th>\n",
       "      <td>0</td>\n",
       "      <td>2</td>\n",
       "      <td>85000</td>\n",
       "      <td>1</td>\n",
       "    </tr>\n",
       "    <tr>\n",
       "      <th>9</th>\n",
       "      <td>0</td>\n",
       "      <td>1</td>\n",
       "      <td>75000</td>\n",
       "      <td>0</td>\n",
       "    </tr>\n",
       "    <tr>\n",
       "      <th>10</th>\n",
       "      <td>0</td>\n",
       "      <td>2</td>\n",
       "      <td>90000</td>\n",
       "      <td>1</td>\n",
       "    </tr>\n",
       "  </tbody>\n",
       "</table>\n",
       "</div>"
      ],
      "text/plain": [
       "     Refund  Marital Status  Taxable Income  Evade\n",
       "Tid                                               \n",
       "1         1               2          125000      0\n",
       "2         0               1          100000      0\n",
       "3         0               2           70000      0\n",
       "4         1               1          120000      0\n",
       "5         0               0           95000      1\n",
       "6         0               1           60000      0\n",
       "7         1               0          220000      0\n",
       "8         0               2           85000      1\n",
       "9         0               1           75000      0\n",
       "10        0               2           90000      1"
      ]
     },
     "execution_count": 154,
     "metadata": {},
     "output_type": "execute_result"
    }
   ],
   "source": [
    "df['Taxable Income'] = df['Taxable Income'].str.replace('K','000')\n",
    "df['Refund'] = df['Refund'].astype('category')\n",
    "df['Marital Status'] = df['Marital Status'].astype('category')\n",
    "df['Taxable Income'] = df['Taxable Income'].astype('int64')\n",
    "df['Evade'] = df['Evade'].astype('category')\n",
    "df['Refund'] = df['Refund'].cat.codes\n",
    "df['Marital Status'] = df['Marital Status'].cat.codes\n",
    "df['Evade'] = df['Evade'].cat.codes\n",
    "df.set_index('Tid')"
   ]
  },
  {
   "cell_type": "code",
   "execution_count": 155,
   "metadata": {},
   "outputs": [
    {
     "data": {
      "text/plain": [
       "Tid               int64\n",
       "Refund             int8\n",
       "Marital Status     int8\n",
       "Taxable Income    int64\n",
       "Evade              int8\n",
       "dtype: object"
      ]
     },
     "execution_count": 155,
     "metadata": {},
     "output_type": "execute_result"
    }
   ],
   "source": [
    "df.dtypes"
   ]
  },
  {
   "cell_type": "code",
   "execution_count": 156,
   "metadata": {},
   "outputs": [
    {
     "data": {
      "text/plain": [
       "0    7\n",
       "1    3\n",
       "Name: Evade, dtype: int64"
      ]
     },
     "execution_count": 156,
     "metadata": {},
     "output_type": "execute_result"
    }
   ],
   "source": [
    "df['Evade'].value_counts()"
   ]
  },
  {
   "cell_type": "code",
   "execution_count": 157,
   "metadata": {},
   "outputs": [],
   "source": [
    "def prob(Ai, Ck):\n",
    "    return len(Ai)/len(Ck)\n",
    "def probb(C):\n",
    "    arr = C.value_counts()\n",
    "    r = {}\n",
    "    for i in arr.keys():\n",
    "        r[i] = (len(C[C==i])/len(C))\n",
    "    return r"
   ]
  },
  {
   "cell_type": "code",
   "execution_count": 158,
   "metadata": {},
   "outputs": [
    {
     "name": "stdout",
     "output_type": "stream",
     "text": [
      "{0: 0.7, 1: 0.3}\n"
     ]
    }
   ],
   "source": [
    "# P(No) & P(Yes)\n",
    "print(probb(df['Evade']))"
   ]
  },
  {
   "cell_type": "code",
   "execution_count": 159,
   "metadata": {},
   "outputs": [
    {
     "name": "stdout",
     "output_type": "stream",
     "text": [
      "P(Refund=Yes | Yes) : 0.0\n",
      "P(Refund=No  | Yes) : 1.0\n",
      "P(Refund=Yes | No)  : 0.42857142857142855\n",
      "P(Refund=No  | No)  : 0.5714285714285714\n"
     ]
    }
   ],
   "source": [
    "print('P(Refund=Yes | Yes) : ', end='')\n",
    "print(prob(df[df['Evade']==1][df['Refund']==1],df[df['Evade']==1]))\n",
    "print('P(Refund=No  | Yes) : ', end='')\n",
    "print(prob(df[df['Evade']==1][df['Refund']==0],df[df['Evade']==1]))\n",
    "print('P(Refund=Yes | No)  : ', end='')\n",
    "print(prob(df[df['Evade']==0][df['Refund']==1],df[df['Evade']==0]))\n",
    "print('P(Refund=No  | No)  : ', end='')\n",
    "print(prob(df[df['Evade']==0][df['Refund']==0],df[df['Evade']==0]))"
   ]
  },
  {
   "cell_type": "code",
   "execution_count": 160,
   "metadata": {},
   "outputs": [
    {
     "name": "stdout",
     "output_type": "stream",
     "text": [
      "P(Status=Divorced | Yes) : 0.3333333333333333\n",
      "P(Status=Married | Yes) : 0.0\n",
      "P(Status=Single  | Yes)  : 0.6666666666666666\n"
     ]
    }
   ],
   "source": [
    "print('P(Status=Divorced | Yes) : ', end='')\n",
    "print(prob(df[df['Evade']==1][df['Marital Status']==0],df[df['Evade']==1]))\n",
    "print('P(Status=Married | Yes) : ', end='')\n",
    "print(prob(df[df['Evade']==1][df['Marital Status']==1],df[df['Evade']==1]))\n",
    "print('P(Status=Single  | Yes)  : ', end='')\n",
    "print(prob(df[df['Evade']==1][df['Marital Status']==2],df[df['Evade']==1]))"
   ]
  },
  {
   "cell_type": "code",
   "execution_count": 161,
   "metadata": {},
   "outputs": [
    {
     "name": "stdout",
     "output_type": "stream",
     "text": [
      "P(Status=Divorced | No) : 0.14285714285714285\n",
      "P(Status=Married | No) : 0.5714285714285714\n",
      "P(Status=Single  | No)  : 0.2857142857142857\n"
     ]
    }
   ],
   "source": [
    "print('P(Status=Divorced | No) : ', end='')\n",
    "print(prob(df[df['Evade']==0][df['Marital Status']==0],df[df['Evade']==0]))\n",
    "print('P(Status=Married | No) : ', end='')\n",
    "print(prob(df[df['Evade']==0][df['Marital Status']==1],df[df['Evade']==0]))\n",
    "print('P(Status=Single  | No)  : ', end='')\n",
    "print(prob(df[df['Evade']==0][df['Marital Status']==2],df[df['Evade']==0]))"
   ]
  },
  {
   "cell_type": "code",
   "execution_count": 162,
   "metadata": {},
   "outputs": [],
   "source": [
    "def NormalDistribution(Ai, mean, variance):\n",
    "    return((1/math.sqrt(2*math.pi*variance))*(math.exp(((Ai-mean)**2)/(2*variance))))"
   ]
  },
  {
   "cell_type": "code",
   "execution_count": 163,
   "metadata": {},
   "outputs": [
    {
     "name": "stdout",
     "output_type": "stream",
     "text": [
      "mean:  110000.0\n",
      "variance:  2975000000.0\n",
      "Normal Distribution For(Income=90000, No): 7.82281119292927e-06\n"
     ]
    }
   ],
   "source": [
    "mean = df[df['Evade'] == 0]['Taxable Income'].mean()\n",
    "var = df[df['Evade'] == 0]['Taxable Income'].var()\n",
    "print('mean: ',mean)\n",
    "print('variance: ',var)\n",
    "print('Normal Distribution For(Income=90000, No): ', end='')\n",
    "print(NormalDistribution(90000, mean, var))"
   ]
  },
  {
   "cell_type": "code",
   "execution_count": 164,
   "metadata": {},
   "outputs": [
    {
     "name": "stdout",
     "output_type": "stream",
     "text": [
      "P(Evade == Yes):  0.0 %\n"
     ]
    }
   ],
   "source": [
    "#X1 = {Refund = Yes, Status = Divorced,Income = 90K, Evade = ?}\n",
    "\n",
    "# For Evade == Yes\n",
    "mean = df[df['Evade'] == 1]['Taxable Income'].mean()\n",
    "var = df[df['Evade'] == 1]['Taxable Income'].var()\n",
    "# P(Evade = Yes)\n",
    "evade = probb(df['Evade'])[1]\n",
    "# P(Refund=Yes | Evade=Yes)\n",
    "refund = prob(df[df['Evade']==1][df['Refund']==1],df[df['Evade']==1])\n",
    "# Normal Distribution For(Income==90000, Evade = Yes)\n",
    "income = NormalDistribution(90000, mean, var)\n",
    "# P(Status=Divorced | Evade=yes)\n",
    "status = prob(df[df['Evade']==1][df['Marital Status']==0],df[df['Evade']==1])\n",
    "\n",
    "evade_yes = (income * evade * refund * status)*100\n",
    "print('P(Evade == Yes): ',evade_yes,'%')"
   ]
  },
  {
   "cell_type": "code",
   "execution_count": 165,
   "metadata": {},
   "outputs": [
    {
     "name": "stdout",
     "output_type": "stream",
     "text": [
      "P(Evade == No):  3.3526333683982576e-05 %\n"
     ]
    }
   ],
   "source": [
    "# For Evade == No\n",
    "mean = df[df['Evade'] == 0]['Taxable Income'].mean()\n",
    "var = df[df['Evade'] == 0]['Taxable Income'].var()\n",
    "# P(Evade = No)\n",
    "evade = probb(df['Evade'])[0]\n",
    "# P(Refund=Yes | Evade=No)\n",
    "refund = prob(df[df['Evade']==0][df['Refund']==1],df[df['Evade']==0])\n",
    "# Normal Distribution For(Income==90000, Evade = No)\n",
    "income = NormalDistribution(90000, mean, var)\n",
    "# P(Status=Divorced | Evade=No)\n",
    "status = prob(df[df['Evade']==0][df['Marital Status']==0],df[df['Evade']==0])\n",
    "\n",
    "evade_no = (income * evade * refund * status)*100\n",
    "print('P(Evade == No): ',evade_no,'%')"
   ]
  },
  {
   "cell_type": "code",
   "execution_count": 166,
   "metadata": {},
   "outputs": [
    {
     "name": "stdout",
     "output_type": "stream",
     "text": [
      "{Refund = Yes, Status = Divorced,Income = 90K, Evade = ?}\n",
      "Prediction: (Evade == No)\n"
     ]
    }
   ],
   "source": [
    "print('{Refund = Yes, Status = Divorced,Income = 90K, Evade = ?}')\n",
    "if evade_yes > evade_no:\n",
    "    print('Prediction: (Evade == Yes)')\n",
    "else:\n",
    "    print('Prediction: (Evade == No)')"
   ]
  },
  {
   "cell_type": "code",
   "execution_count": 167,
   "metadata": {},
   "outputs": [
    {
     "name": "stdout",
     "output_type": "stream",
     "text": [
      "P(Evade == Yes):  0.0 %\n"
     ]
    }
   ],
   "source": [
    "#X2 = {Refund = No, Status = Married,Income = 60K, Evade = ?}\n",
    "# For Evade == Yes\n",
    "mean = df[df['Evade'] == 1]['Taxable Income'].mean()\n",
    "var = df[df['Evade'] == 1]['Taxable Income'].var()\n",
    "# P(Evade = Yes)\n",
    "evade = probb(df['Evade'])[1]\n",
    "# P(Refund=No | Evade=Yes)\n",
    "refund = prob(df[df['Evade']==1][df['Refund']==0],df[df['Evade']==1])\n",
    "# Normal Distribution For(Income==60000, Evade = Yes)\n",
    "income = NormalDistribution(60000, mean, var)\n",
    "# P(Status=Married | Evade=yes)\n",
    "status = prob(df[df['Evade']==1][df['Marital Status']==1],df[df['Evade']==1])\n",
    "\n",
    "evade_yes = (income * evade * refund * status)*100\n",
    "print('P(Evade == Yes): ',evade_yes,'%')"
   ]
  },
  {
   "cell_type": "code",
   "execution_count": 168,
   "metadata": {},
   "outputs": [
    {
     "name": "stdout",
     "output_type": "stream",
     "text": [
      "P(Evade == No):  0.0002544867623238046 %\n"
     ]
    }
   ],
   "source": [
    "#X2 = {Refund = No, Status = Married,Income = 60K, Evade = ?}\n",
    "# For Evade == No\n",
    "mean = df[df['Evade'] == 0]['Taxable Income'].mean()\n",
    "var = df[df['Evade'] == 0]['Taxable Income'].var()\n",
    "# P(Evade = No)\n",
    "evade = probb(df['Evade'])[0]\n",
    "# P(Refund=No | Evade=No)\n",
    "refund = prob(df[df['Evade']==0][df['Refund']==0],df[df['Evade']==0])\n",
    "# Normal Distribution For(Income==60000, Evade = No)\n",
    "income = NormalDistribution(60000, mean, var)\n",
    "# P(Status=Married | Evade=No)\n",
    "status = prob(df[df['Evade']==0][df['Marital Status']==1],df[df['Evade']==0])\n",
    "\n",
    "evade_no = (income * evade * refund * status)*100\n",
    "print('P(Evade == No): ',evade_no,'%')"
   ]
  },
  {
   "cell_type": "code",
   "execution_count": 169,
   "metadata": {},
   "outputs": [
    {
     "name": "stdout",
     "output_type": "stream",
     "text": [
      "{Refund = No, Status = Married,Income = 60K, Evade = ?}\n",
      "Prediction: (Evade == No)\n"
     ]
    }
   ],
   "source": [
    "print('{Refund = No, Status = Married,Income = 60K, Evade = ?}')\n",
    "if evade_yes > evade_no:\n",
    "    print('Prediction: (Evade == Yes)')\n",
    "else:\n",
    "    print('Prediction: (Evade == No)')"
   ]
  }
 ],
 "metadata": {
  "kernelspec": {
   "display_name": "Python 3",
   "language": "python",
   "name": "python3"
  },
  "language_info": {
   "codemirror_mode": {
    "name": "ipython",
    "version": 3
   },
   "file_extension": ".py",
   "mimetype": "text/x-python",
   "name": "python",
   "nbconvert_exporter": "python",
   "pygments_lexer": "ipython3",
   "version": "3.8.5"
  }
 },
 "nbformat": 4,
 "nbformat_minor": 4
}
